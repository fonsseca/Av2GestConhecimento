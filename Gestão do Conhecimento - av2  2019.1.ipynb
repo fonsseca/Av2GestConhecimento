{
  "cells": [
    {
      "metadata": {},
      "cell_type": "markdown",
      "source": "# DISCIPLINA: Gestão do Conhecimento \n# PROFESSOR(A): Alex Salgado \n# PERÍODO: 7o. \n# TURNO: Noite \n# AVALIAÇÃO:\n\n# ALUNO(A): Fernando Augusto de Souza Fonseca\n\n# GRAU: VISTO DO PROFESSOR:"
    },
    {
      "metadata": {
        "trusted": true
      },
      "cell_type": "code",
      "source": "# Questão 1 - valor (1,0)\n# 1.1 - Você deve escolher uma base de dados aberta que seja possível treinar um modelo de aprendizagem de máquina Supervisionado de Classificação (assim como o exemplo da Iris e Cancer). \n# A partir desta base de dados, você vai treinar o modelo, fazer previsões e calcular a acurácia do mesmo.\n\n# https://www.kaggle.com/hurshd0/abalone-uci\n# abalone_original.csv",
      "execution_count": 3,
      "outputs": []
    },
    {
      "metadata": {
        "trusted": true
      },
      "cell_type": "code",
      "source": "# 1.2 - Após tratada, criar uma pasta no seu GoogleDrive e disponibilizar o link do arquivo de sua base para ser importado no seu código.\n\n# https://drive.google.com/drive/folders/1wShMzD_DI2oDue_03nkl3hB5ceUylqDO",
      "execution_count": 4,
      "outputs": []
    },
    {
      "metadata": {
        "trusted": true
      },
      "cell_type": "code",
      "source": "# Questão 2 - valor (1,0)\n# 2.1 - Importar os modulos python para machine learn e carregar o arquivo\n\nimport pandas as pd\nimport numpy as np\ndf = pd.read_csv('abalone_original.csv')",
      "execution_count": 1,
      "outputs": []
    },
    {
      "metadata": {
        "trusted": true
      },
      "cell_type": "code",
      "source": "# 2.2 - Exibir os primeiros registros desta tabela.\n\ndf.head()",
      "execution_count": 2,
      "outputs": [
        {
          "output_type": "execute_result",
          "execution_count": 2,
          "data": {
            "text/plain": "  sex  length  diameter  height  whole-weight  shucked-weight  viscera-weight  \\\n0   M      91        73      19         102.8            44.9            20.2   \n1   M      70        53      18          45.1            19.9             9.7   \n2   F     106        84      27         135.4            51.3            28.3   \n3   M      88        73      25         103.2            43.1            22.8   \n4   I      66        51      16          41.0            17.9             7.9   \n\n   shell-weight  rings  \n0          30.0     15  \n1          14.0      7  \n2          42.0      9  \n3          31.0     10  \n4          11.0      7  ",
            "text/html": "<div>\n<table border=\"1\" class=\"dataframe\">\n  <thead>\n    <tr style=\"text-align: right;\">\n      <th></th>\n      <th>sex</th>\n      <th>length</th>\n      <th>diameter</th>\n      <th>height</th>\n      <th>whole-weight</th>\n      <th>shucked-weight</th>\n      <th>viscera-weight</th>\n      <th>shell-weight</th>\n      <th>rings</th>\n    </tr>\n  </thead>\n  <tbody>\n    <tr>\n      <th>0</th>\n      <td>M</td>\n      <td>91</td>\n      <td>73</td>\n      <td>19</td>\n      <td>102.8</td>\n      <td>44.9</td>\n      <td>20.2</td>\n      <td>30.0</td>\n      <td>15</td>\n    </tr>\n    <tr>\n      <th>1</th>\n      <td>M</td>\n      <td>70</td>\n      <td>53</td>\n      <td>18</td>\n      <td>45.1</td>\n      <td>19.9</td>\n      <td>9.7</td>\n      <td>14.0</td>\n      <td>7</td>\n    </tr>\n    <tr>\n      <th>2</th>\n      <td>F</td>\n      <td>106</td>\n      <td>84</td>\n      <td>27</td>\n      <td>135.4</td>\n      <td>51.3</td>\n      <td>28.3</td>\n      <td>42.0</td>\n      <td>9</td>\n    </tr>\n    <tr>\n      <th>3</th>\n      <td>M</td>\n      <td>88</td>\n      <td>73</td>\n      <td>25</td>\n      <td>103.2</td>\n      <td>43.1</td>\n      <td>22.8</td>\n      <td>31.0</td>\n      <td>10</td>\n    </tr>\n    <tr>\n      <th>4</th>\n      <td>I</td>\n      <td>66</td>\n      <td>51</td>\n      <td>16</td>\n      <td>41.0</td>\n      <td>17.9</td>\n      <td>7.9</td>\n      <td>11.0</td>\n      <td>7</td>\n    </tr>\n  </tbody>\n</table>\n</div>"
          },
          "metadata": {}
        }
      ]
    },
    {
      "metadata": {
        "trusted": true
      },
      "cell_type": "code",
      "source": "# 2.3 - De que se trata esse banco de dados? e que tipo de previsão pode ser feito com ele?\n\n# Abalone é o nome dado para qualquer grupo de pequenos a muito grandes caracóis, são usados como delicadezas em costumes e sua sobra é formada em jóias devido ao seu brilho iridescente. \n# Devido à sua demanda e valor econômico, muitas vezes é colhido em fazendas e, como tal, a necessidade de prever a idade do abalone de medições físicas. \n# A abordagem tradicional para determinar sua idade é cortando a casca através do cone, manchando-a e contando o número de anéis através de um microscópio - uma tarefa chata e demorada.",
      "execution_count": 9,
      "outputs": []
    },
    {
      "metadata": {
        "trusted": true
      },
      "cell_type": "code",
      "source": "# Questão 3 - valor (0,5)\n# 3.1 - Quantas \"features\" têm nessa base de dados?\n\nshape = df.shape\nprint('Quantidade de Features: {}'.format(shape[1] - 1))",
      "execution_count": 24,
      "outputs": [
        {
          "output_type": "stream",
          "text": "Quantidade de Features: 8\n",
          "name": "stdout"
        }
      ]
    },
    {
      "metadata": {
        "trusted": true
      },
      "cell_type": "code",
      "source": "# 3.2 - Quantas observações têm nessa base de dados?\n\nprint('Quantidade de Observações: {}'.format(shape[0]))",
      "execution_count": 5,
      "outputs": [
        {
          "output_type": "stream",
          "text": "Quantidade de Observações: 4177\n",
          "name": "stdout"
        }
      ]
    },
    {
      "metadata": {
        "trusted": true
      },
      "cell_type": "code",
      "source": "# Questão 4 - valor (1,5)\n# 4.1 - Faça uma previsão, usando o algoritmo de LogisticRegression.\n\nx_vars = []\n\nfor column in df.columns:\n    x_vars.append(column)\nx_vars.remove('sex')\nx_vars.remove('length')\nx_vars.remove('diameter')\nx_vars.remove('height')\nx_vars.remove('whole-weight')\nx_vars.remove('shucked-weight')\nx_vars.remove('viscera-weight')\nx_vars.remove('shell-weight')\nx = df[x_vars].values\ny = df['rings'].values\nfrom sklearn.linear_model import LogisticRegression as lr\nlogreg = lr()\nlogreg.fit(x,y)\nlogreg.predict(x)\ny_pred = logreg.predict(x)\nlen(y_pred)\nfrom sklearn import metrics\nmetrics.accuracy_score(y,y_pred)",
      "execution_count": 21,
      "outputs": [
        {
          "output_type": "execute_result",
          "execution_count": 21,
          "data": {
            "text/plain": "0.1649509217141489"
          },
          "metadata": {}
        }
      ]
    },
    {
      "metadata": {
        "trusted": true
      },
      "cell_type": "code",
      "source": "# Questão 5 - valor (2,0)\n# Usando o método de avaliação de acurácia (Treinar e testar na base de dados inteira/Train test entire model), \n# Calcular a acurácia de cada um dos 3 métodos abaixo.\n\n# 4.1 - Acurácia usando o algoritmo de KNN (com 1 vizinho, k=1)\n\nfrom sklearn.neighbors import KNeighborsClassifier as knc\nknn = knc(n_neighbors=1)\nknn.fit(x,y)\ny_pred = knn.predict(x)\nprint(metrics.accuracy_score(y,y_pred))\n\nfrom sklearn.model_selection import train_test_split as ts\nx_train, x_test, y_train, y_test = ts(x, y, test_size=0.4, random_state=4)\nknn = knc(n_neighbors=1)\nknn.fit(x_train, y_train)\ny_pred = knn.predict(x_test)\nprint(metrics.accuracy_score(y_test, y_pred))",
      "execution_count": 18,
      "outputs": [
        {
          "output_type": "stream",
          "text": "1.0\n0.9982046678635548\n",
          "name": "stdout"
        }
      ]
    },
    {
      "metadata": {
        "trusted": true
      },
      "cell_type": "code",
      "source": "# 4.2 - Acurácia usando o algoritmo de KNN (com 5 vizinho, k=5)\n\nknn = knc(n_neighbors=5)\nknn.fit(x,y)\ny_pred = knn.predict(x)\nprint(metrics.accuracy_score(y,y_pred))\n\nknn = knc(n_neighbors=5)\nknn.fit(x_train, y_train)\ny_pred = knn.predict(x_test)\nprint(metrics.accuracy_score(y_test, y_pred))",
      "execution_count": 22,
      "outputs": [
        {
          "output_type": "stream",
          "text": "0.9983241560928896\n0.997606223818073\n",
          "name": "stdout"
        }
      ]
    },
    {
      "metadata": {
        "trusted": true
      },
      "cell_type": "code",
      "source": "# 4.3 - Acurácia usando o algoritmo de LogisticRegression\n\nlogreg = lr()\nlogreg.fit(x_train, y_train)\ny_pred = logreg.predict(x_test)\nprint(metrics.accuracy_score(y_test, y_pred))",
      "execution_count": 23,
      "outputs": [
        {
          "output_type": "stream",
          "text": "0.1639736684619988\n",
          "name": "stdout"
        }
      ]
    },
    {
      "metadata": {
        "trusted": true
      },
      "cell_type": "code",
      "source": "# 4.4 - De acordo com seus resultados anteriores, qual dos 3 métodos é mais eficiente?\n\n# O resultado do primeiro metodo (com 1 vizinho, k=1), pois foi o que mais se aproximou de 1.",
      "execution_count": 16,
      "outputs": []
    },
    {
      "metadata": {
        "trusted": true
      },
      "cell_type": "code",
      "source": "# *** Envie o link do seu Github com essa resposta no Classroom\n\n",
      "execution_count": 17,
      "outputs": []
    },
    {
      "metadata": {
        "trusted": true,
        "scrolled": false
      },
      "cell_type": "code",
      "source": "",
      "execution_count": null,
      "outputs": []
    }
  ],
  "metadata": {
    "kernelspec": {
      "name": "python3",
      "display_name": "Python 3",
      "language": "python"
    },
    "language_info": {
      "mimetype": "text/x-python",
      "nbconvert_exporter": "python",
      "name": "python",
      "file_extension": ".py",
      "version": "3.5.4",
      "pygments_lexer": "ipython3",
      "codemirror_mode": {
        "version": 3,
        "name": "ipython"
      }
    }
  },
  "nbformat": 4,
  "nbformat_minor": 1
}